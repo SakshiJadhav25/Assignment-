{
 "cells": [
  {
   "cell_type": "code",
   "execution_count": 2,
   "id": "eef6c979-73f0-41a2-b6b0-8a735c9bedb1",
   "metadata": {},
   "outputs": [
    {
     "name": "stdout",
     "output_type": "stream",
     "text": [
      "L:  [1, 2, 3, 4, 5, 6]\n",
      "List of Even number:  [2, 4, 6]\n",
      "List of odd number:  [1, 3, 5]\n"
     ]
    }
   ],
   "source": [
    "# Create 2 lists from a given list where \n",
    "# 1st list will contain all the odd numbers from original list and\n",
    "# the 2nd one will contain all the even numbers\n",
    "# L=[1,2,3,4,5,6]\n",
    "L=[1,2,3,4,5,6]\n",
    "lOdd=[]\n",
    "lEven=[]\n",
    "for n in L:\n",
    "    if n%2==0:\n",
    "        lEven.append(n)\n",
    "    else:\n",
    "        lOdd.append(n)\n",
    "print(\"L: \",L)\n",
    "print(\"List of Even number: \",lEven)\n",
    "print(\"List of odd number: \",lOdd)"
   ]
  },
  {
   "cell_type": "code",
   "execution_count": 3,
   "id": "6ecf7b1a-1899-4b66-87e6-c40398ca0411",
   "metadata": {},
   "outputs": [
    {
     "name": "stdin",
     "output_type": "stream",
     "text": [
      "Enter number of elements : 4\n",
      " 1\n",
      " 2\n",
      " 3\n",
      " 4\n"
     ]
    },
    {
     "name": "stdout",
     "output_type": "stream",
     "text": [
      "[1, 2, 3, 4]\n"
     ]
    }
   ],
   "source": [
    "# How to take list as input from user\n",
    "list=[]\n",
    "n=int(input(\"Enter number of elements :\"))\n",
    "for i in range (0,n):\n",
    "    element=int(input())\n",
    "    list.append(element)\n",
    "print(list)"
   ]
  },
  {
   "cell_type": "code",
   "execution_count": 4,
   "id": "7e34762e-256e-4cfd-a303-f91c3ac3b636",
   "metadata": {},
   "outputs": [
    {
     "name": "stdout",
     "output_type": "stream",
     "text": [
      "List after merged : [1, 2, 3, 4, 5, 6, 7, 8]\n"
     ]
    }
   ],
   "source": [
    "# Write a program to merge 2 list without using the + operator\n",
    "# L1=[1,2,3,4]\n",
    "# L2=[5,6,7,8]\n",
    "L1=[1,2,3,4]\n",
    "L2=[5,6,7,8]\n",
    "for x in L2:\n",
    "    L1.append(x)\n",
    "print(\"List after merged :\",L1)"
   ]
  },
  {
   "cell_type": "code",
   "execution_count": 6,
   "id": "becd4bd5-96ed-4b22-abdf-7c2da3635149",
   "metadata": {},
   "outputs": [
    {
     "name": "stdout",
     "output_type": "stream",
     "text": [
      "[1, 2, 300, 4, 5, 300]\n"
     ]
    }
   ],
   "source": [
    "# Write a program tp replace an item with a different item  if found in the list\n",
    "# L=[1,2,3,4,5,3]\n",
    "# replace 3 with 300\n",
    "L=[1,2,3,4,5,3]\n",
    "for i in range(len(L)):\n",
    "    if L[i]==3:\n",
    "       L[i]=300\n",
    "print(L)"
   ]
  },
  {
   "cell_type": "code",
   "execution_count": 3,
   "id": "6b76c63c-5b94-48f8-bf54-2889b57bc06a",
   "metadata": {},
   "outputs": [
    {
     "name": "stdout",
     "output_type": "stream",
     "text": [
      "The 2D list [[1 2 3]\n",
      " [2 4 5]\n",
      " [1 2 3]]\n",
      "The 1D list: [1 2 3 2 4 5 1 2 3]\n"
     ]
    }
   ],
   "source": [
    "# Write a program that can convert a 2D list to 1D list\n",
    "import numpy as np\n",
    "list1=np.array([[1,2,3],[2,4,5],[1,2,3]])\n",
    "print(\"The 2D list\",str(list1))\n",
    "result=list1.flatten()\n",
    "print(\"The 1D list:\",result)\n"
   ]
  },
  {
   "cell_type": "code",
   "execution_count": 4,
   "id": "30888112-2501-415c-bdb1-30e88480c3b4",
   "metadata": {},
   "outputs": [
    {
     "name": "stdout",
     "output_type": "stream",
     "text": [
      "The list before: [1, 2, 1, 2, 3, 4, 5, 3, 4]\n",
      "The list after removing duplicate:  [1, 2, 3, 4, 5]\n"
     ]
    }
   ],
   "source": [
    "# Write a program to removen duplicate items from a list\n",
    "# L=[1,2,1,2,3,4,5,3,4]\n",
    "L=[1,2,1,2,3,4,5,3,4]\n",
    "print(\"The list before:\",L)\n",
    "l1=[]\n",
    "for i in L:\n",
    "    if i not in l1:\n",
    "       l1.append(i)\n",
    "print(\"The list after removing duplicate: \",l1)"
   ]
  },
  {
   "cell_type": "code",
   "execution_count": 3,
   "id": "aabf1299-cbbe-4001-9a0b-fdf4ccbdae0b",
   "metadata": {},
   "outputs": [
    {
     "data": {
      "text/plain": [
       "'list is in ascending order'"
      ]
     },
     "execution_count": 3,
     "metadata": {},
     "output_type": "execute_result"
    }
   ],
   "source": [
    "def isAscending(list):\n",
    "    previous = list[0]\n",
    "    for number in list:\n",
    "        if number < previous:\n",
    "            return \"list is not in ascending order\"\n",
    "        previous = number\n",
    "    return \"list is in ascending order\"\n",
    "L1=[5,5,8,9,3,4]\n",
    "isAscending(L1)\n",
    "L1=[45,56,67,78,89]\n",
    "isAscending(L1)"
   ]
  },
  {
   "cell_type": "code",
   "execution_count": null,
   "id": "c1b8a8a6-f3d6-463b-a564-f6453765689b",
   "metadata": {},
   "outputs": [],
   "source": []
  },
  {
   "cell_type": "code",
   "execution_count": null,
   "id": "7b56bed0-0c95-4975-b879-8f4781e58d8e",
   "metadata": {},
   "outputs": [],
   "source": []
  }
 ],
 "metadata": {
  "kernelspec": {
   "display_name": "Python 3 (ipykernel)",
   "language": "python",
   "name": "python3"
  },
  "language_info": {
   "codemirror_mode": {
    "name": "ipython",
    "version": 3
   },
   "file_extension": ".py",
   "mimetype": "text/x-python",
   "name": "python",
   "nbconvert_exporter": "python",
   "pygments_lexer": "ipython3",
   "version": "3.12.4"
  }
 },
 "nbformat": 4,
 "nbformat_minor": 5
}
