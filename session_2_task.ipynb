{
  "nbformat": 4,
  "nbformat_minor": 0,
  "metadata": {
    "colab": {
      "provenance": []
    },
    "kernelspec": {
      "name": "python3",
      "display_name": "Python 3"
    },
    "language_info": {
      "name": "python"
    }
  },
  "cells": [
    {
      "cell_type": "markdown",
      "source": [
        "### `Problem 1`: Write a program that will give you in hand monthly salary after deduction on CTC - HRA(10%), DA(5%), PF(3%) and taxes deduction as below:\n",
        "\n",
        "> Salary(Lakhs) : Tax(%)\n",
        "\n",
        "*   Below 5 : 0%\n",
        "*   5-10 : 10%\n",
        "*   10-20 : 20%\n",
        "*   aboove 20 : 30%"
      ],
      "metadata": {
        "id": "w6RlOAXV2PWh"
      }
    },
    {
      "cell_type": "code",
      "source": [
        "basic_salary=int(input(\"Enter the basic salary:\"))\n",
        "DA=0.5*basic_salary\n",
        "HRA=0.1*basic_salary\n",
        "PF=0.3*basic_salary\n",
        "In_handSalary=basic_salary+DA+HRA\n",
        "print(\"The in hand salary will be:\",In_handSalary)"
      ],
      "metadata": {
        "id": "7tMHvKYO2etI"
      },
      "execution_count": null,
      "outputs": []
    },
    {
      "cell_type": "markdown",
      "source": [
        "### `Problem 2`: Write a program that take a user input of three angles and will find out whether it can form a triangle or not."
      ],
      "metadata": {
        "id": "tYzCGqwl2hfN"
      }
    },
    {
      "cell_type": "code",
      "source": [
        "a=int(input(\"Enter the first angle:\"))\n",
        "b=int(input(\"Enter the second angle:\"))\n",
        "c=int(input(\"Enter the third angle:\"))\n",
        "sum=a+b+c\n",
        "if(sum==180):\n",
        "         print(\"these parameters makes triangle\")\n",
        "else:\n",
        "        print(\"these parameters does not make triangle\")\n"
      ],
      "metadata": {
        "id": "FYEqln-I2kxV"
      },
      "execution_count": null,
      "outputs": []
    },
    {
      "cell_type": "markdown",
      "source": [
        "### `Problem 3`: Write a program that will take user input of cost price and selling price and determines whether its a loss or a profit."
      ],
      "metadata": {
        "id": "5vEpPh8C2pE4"
      }
    },
    {
      "cell_type": "code",
      "source": [
        "cp=int(input(\"Enetr the cost price\"))\n",
        "sp=int(input(\"Enter the selling price:\"))\n",
        "if(cp>sp):\n",
        "    print(\"it's a loss\")\n",
        "elif(cp==sp):\n",
        "    print(\"it's neither profit or loss\")\n",
        "else:\n",
        "    print(\"it's profit\")"
      ],
      "metadata": {
        "id": "jDwBXlkO2sfl"
      },
      "execution_count": null,
      "outputs": []
    },
    {
      "cell_type": "markdown",
      "source": [
        "### `Problem 4`: Write a menu-driven program -\n",
        "1. cm to ft\n",
        "2. km to miles\n",
        "3. USD to INR\n",
        "4. exit"
      ],
      "metadata": {
        "id": "J_FG_cJW2ugT"
      }
    },
    {
      "cell_type": "code",
      "source": [
        "def cm_ft(cm):\n",
        "    ft=cm*0.0328\n",
        "    print(\"Value in feet:\",ft)\n",
        "\n",
        "def km_miles(km):\n",
        "    miles=km*0.62137\n",
        "    print(\"Value in miles:\", miles)\n",
        "\n",
        "def USD_INR(usd):\n",
        "    inr=usd*83.58\n",
        "    print(\"Value in INR:\", inr)\n",
        "\n",
        "print(\"WELCOME To the converter\")\n",
        "\n",
        "while True:\n",
        "    print(\"1.Cm to Feet\")\n",
        "    print(\"2.KM to Miles\")\n",
        "    print(\"3.USD to INR \")\n",
        "    print(\"4. Exit\")\n",
        "    choice1 = int(input(\"Enter the Choice:\"))\n",
        "\n",
        "    if(choice1 == 1):\n",
        "        cm=int(input(\"Enter the value:\"))\n",
        "        cm_ft(cm)\n",
        "        choice2 = int(input(\"Enter the Choice:\"))\n",
        "\n",
        "        if (choice2 == 1):\n",
        "                      km=int(input(\"Enter the value:\"))\n",
        "            km_miles(km)\n",
        "\n",
        "        elif (choice2 == 2):\n",
        "            usd=int(input(\"Enter the value:\"))\n",
        "            USD_INR(usd)\n",
        "        else(choice2 == 3):\n",
        "        break\n",
        "\n",
        "    else:\n",
        "        print(\"Oops! Incorrect Choice.\")\n",
        ""
      ],
      "metadata": {
        "id": "yBHhaCGQ2zpD"
      },
      "execution_count": null,
      "outputs": []
    },
    {
      "cell_type": "markdown",
      "source": [
        "### `Problem 5` - Exercise 12: Display Fibonacci series up to 10 terms.\n",
        "\n",
        "*Note: The Fibonacci Sequence is a series of numbers. The next number is found by adding up the two numbers before it. The first two numbers are 0 and 1. For example, 0, 1, 1, 2, 3, 5, 8, 13, 21. The next number in this series above is 13+21 = 34*"
      ],
      "metadata": {
        "id": "LJJ30_Yw27ZU"
      }
    },
    {
      "cell_type": "code",
      "source": [
        "def fibonacciSeries(i):\n",
        "  if i <= 1:\n",
        "    return i\n",
        "  else:\n",
        "    return (fibonacciSeries(i - 1) + fibonacciSeries(i - 2))\n",
        "\n",
        "num=10\n",
        "if num <=0:\n",
        "  print(\"Please enter a Positive Number\")\n",
        "else:\n",
        "  print(\"Fibonacci Series:\", end=\" \")\n",
        "for i in range(num):\n",
        "  print(fibonacciSeries(i), end=\" \")"
      ],
      "metadata": {
        "id": "ae_1rpe52-5R"
      },
      "execution_count": null,
      "outputs": []
    },
    {
      "cell_type": "markdown",
      "source": [
        "### `Problem 6` - Find the factorial of a given number.\n",
        "\n",
        "Write a program to use the loop to find the factorial of a given number.\n",
        "\n",
        "The factorial (symbol: `!`) means to multiply all whole numbers from the chosen number down to 1.\n",
        "\n",
        "For example: calculate the factorial of 5\n",
        "\n",
        "```bash\n",
        "5! = 5 × 4 × 3 × 2 × 1 = 120\n",
        "```\n",
        "\n",
        "Output:\n",
        "\n",
        "```bash\n",
        "120\n",
        "```"
      ],
      "metadata": {
        "id": "pk_I_S4m3PT5"
      }
    },
    {
      "cell_type": "code",
      "source": [
        "def factorial(x):\n",
        "    if x == 1:\n",
        "        return 1\n",
        "    else:\n",
        "        return (x * factorial(x-1))\n",
        "\n",
        "\n",
        "num = 5\n",
        "result = factorial(num)\n",
        "print(\"The factorial of\", num, \"is\", result)"
      ],
      "metadata": {
        "id": "lzXxHegx3Rkc"
      },
      "execution_count": null,
      "outputs": []
    },
    {
      "cell_type": "markdown",
      "source": [
        "### `Problem 7` - Reverse a given integer number.\n",
        "\n",
        "Example:\n",
        "\n",
        "`Input:`\n",
        "\n",
        "```bash\n",
        "76542\n",
        "```\n",
        "\n",
        "`Output:`\n",
        "\n",
        "```bash\n",
        "24567\n",
        "```"
      ],
      "metadata": {
        "id": "-17IOi-g3UpU"
      }
    },
    {
      "cell_type": "code",
      "source": [
        "n = 76542\n",
        "rev = 0\n",
        "\n",
        "while(n > 0):\n",
        "    a = n % 10\n",
        "    rev = rev * 10 + a\n",
        "    n = n // 10\n",
        "\n",
        "print(rev)"
      ],
      "metadata": {
        "id": "wJwLpKCr3aVA"
      },
      "execution_count": null,
      "outputs": []
    },
    {
      "cell_type": "markdown",
      "source": [
        "### `Problem 8`: Take a user input as integer N. Find out the sum from 1 to N. If any number if divisible by 5, then skip that number. And if the sum is greater than 300, don't need to calculate the sum further more. Print the final result. And don't use for loop to solve this problem.\n",
        "\n",
        "**Example 1:**\n",
        "\n",
        "`Input:`\n",
        "\n",
        "```bash\n",
        "30\n",
        "```\n",
        "\n",
        "`Output:`\n",
        "\n",
        "```bash\n",
        "276\n",
        "```"
      ],
      "metadata": {
        "id": "-t8PJQaY3sHf"
      }
    },
    {
      "cell_type": "code",
      "source": [
        "sum = 0\n",
        "i = 1\n",
        "N=int(input(\"Enter integer number:\"))\n",
        "\n",
        "while i <= N:\n",
        "  if i % 5 == 0:\n",
        "    i += 1\n",
        "    continue\n",
        "\n",
        "  sum += i\n",
        "\n",
        "  if sum > 300:\n",
        "    break\n",
        "\n",
        "  i += 1\n",
        "\n",
        "print(\"The addition is:\", sum)"
      ],
      "metadata": {
        "id": "GZB6mGMP3ujT"
      },
      "execution_count": null,
      "outputs": []
    },
    {
      "cell_type": "markdown",
      "source": [
        "### `Problem 9`: Write a program that keeps on accepting a number from the user until the user enters Zero. Display the sum and average of all the numbers."
      ],
      "metadata": {
        "id": "Q7ggImeA3xm4"
      }
    },
    {
      "cell_type": "code",
      "source": [
        "num = 0\n",
        "sum = 0.0\n",
        "while True:\n",
        "    number = input(\"Enter a number\")\n",
        "    if number == 0:\n",
        "        break\n",
        "    else:\n",
        "        continue\n",
        "    num = num+1\n",
        "    sum = sum + num1\n",
        "print ('all done')\n",
        "print (sum,num,tot/num)"
      ],
      "metadata": {
        "id": "t_YDSZDe4Kdo"
      },
      "execution_count": null,
      "outputs": []
    },
    {
      "cell_type": "markdown",
      "source": [
        "###`Problem 9`: Write a program which will find all such numbers which are divisible by 7 but are not a multiple of 5, between 2000 and 3200 (both included). The numbers obtained should be printed in a comma-separated sequence on a single line."
      ],
      "metadata": {
        "id": "6EhvEMvm4R7s"
      }
    },
    {
      "cell_type": "code",
      "source": [
        "l=[]\n",
        "for i in range(2000, 3201):\n",
        "    if (i%7==0) and (i%5!=0):\n",
        "        l.append(str(i))\n",
        "\n",
        "print(','.join(l))"
      ],
      "metadata": {
        "id": "d6RgP1B34T6c"
      },
      "execution_count": null,
      "outputs": []
    },
    {
      "cell_type": "markdown",
      "source": [
        "###`Problem 10`: Write a program, which will find all such numbers between 1000 and 3000 (both included) such that each digit of the number is an even number. The numbers obtained should be printed in a space-separated sequence on a single line.\n",
        "\n"
      ],
      "metadata": {
        "id": "tYvmRR-G4Vp4"
      }
    },
    {
      "cell_type": "code",
      "source": [
        "ans = []\n",
        "\n",
        "for num in range(1000, 3001):\n",
        "\n",
        "\tnum_str = str(num)\n",
        "\tis_ok = True\n",
        "\n",
        "\tfor char in num_str:\n",
        "\t\tif int(char) % 2:\n",
        "\t\t\tis_ok = False\n",
        "\t\t\tbreak\n",
        "\tif is_ok:\n",
        "\t\tans.append(str(num))\n",
        "\n",
        "print(\",\".join(ans))"
      ],
      "metadata": {
        "id": "k6Gs1kIf4k19"
      },
      "execution_count": null,
      "outputs": []
    },
    {
      "cell_type": "markdown",
      "source": [
        "###`Problem 11`: A robot moves in a plane starting from the original point (0,0). The robot can move toward UP, DOWN, LEFT and RIGHT with a given steps.\n",
        "The trace of robot movement is shown as the following:\n",
        "```\n",
        "UP 5\n",
        "DOWN 3\n",
        "LEFT 3\n",
        "RIGHT 2\n",
        "!\n",
        "```\n",
        "> The numbers after the direction are steps.\n",
        "\n",
        "> `!` means robot stop there.\n",
        "\n",
        "**Please write a program to compute the distance from current position after a sequence of movement and original point.**\n",
        "\n",
        "*If the distance is a float, then just print the nearest integer.*\n",
        "\n",
        "Example:\n",
        "\n",
        "`Input`:\n",
        "```\n",
        "UP 5\n",
        "DOWN 3\n",
        "LEFT 3\n",
        "RIGHT 2\n",
        "!\n",
        "```\n",
        "`Output`:\n",
        "```\n",
        "2\n",
        "```"
      ],
      "metadata": {
        "id": "GV18IINT4mf5"
      }
    },
    {
      "cell_type": "code",
      "source": [
        "import math\n",
        "\n",
        "x, y = 0, 0\n",
        "while True:\n",
        "    step = input(\"Type in UP/DOWN/LEFT/RIGHT #step number: \")\n",
        "    if step == \"\":\n",
        "        break\n",
        "    else:\n",
        "        step = step.split(\" \")\n",
        "        if step[0] == \"UP\":\n",
        "            y = y + int(step[1])\n",
        "        elif step[0] == \"DOWN\":\n",
        "            y = y - int(step[1])\n",
        "        elif step[0] == \"LEFT\":\n",
        "            x = x - int(step[1])\n",
        "        elif step[0] == \"RIGHT\":\n",
        "            x = x + int(step[1])\n",
        "\n",
        "c = math.sqrt(x**2 + y**2)\n",
        "\n",
        " print(\"The distence will be:\", c)\n",
        "\n"
      ],
      "metadata": {
        "id": "6UNMC2aR4w5x"
      },
      "execution_count": null,
      "outputs": []
    },
    {
      "cell_type": "markdown",
      "source": [
        "###`Problem 12`:Write a program to print whether a given number is a prime number or not"
      ],
      "metadata": {
        "id": "3fsAIAhK5GYY"
      }
    },
    {
      "cell_type": "code",
      "source": [
        "num = 11\n",
        "if num > 1:\n",
        "    for i in range(2, (num//2)+1):\n",
        "        if (num % i) == 0:\n",
        "            print(num, \"is not a prime number\")\n",
        "            break\n",
        "    else:\n",
        "        print(num, \"is a prime number\")\n",
        "else:\n",
        "    print(num, \"is not a prime number\")"
      ],
      "metadata": {
        "id": "j6y91lxy5LZs"
      },
      "execution_count": null,
      "outputs": []
    },
    {
      "cell_type": "markdown",
      "source": [
        "###`Problem 13`:Print all the Armstrong numbers in a given range.\n",
        "Range will be provided by the user<br>\n",
        "Armstrong number is a number that is equal to the sum of cubes of its digits. For example 0, 1, 153, 370, 371 and 407 are the Armstrong numbers."
      ],
      "metadata": {
        "id": "asAbmbK-5NHv"
      }
    },
    {
      "cell_type": "code",
      "source": [
        "def Armstrong(low, high) :\n",
        "     for i in range(low + 1, high) :\n",
        "        x = i\n",
        "        n = 0\n",
        "        while (x != 0) :\n",
        "            x = x / 10\n",
        "            n = n + 1\n",
        "\n",
        "        pow_sum = 0\n",
        "        x = i\n",
        "        while (x != 0) :\n",
        "            digit = x % 10\n",
        "            pow_sum = pow_sum + math.pow(digit, n)\n",
        "            x = x / 10\n",
        "            if (pow_sum == i) :\n",
        "            print(str(i) + \" \"),\n",
        "num1 = 100\n",
        "num2 = 400\n",
        "findArmstrong(num1, num2)\n",
        "print(\"\")"
      ],
      "metadata": {
        "id": "PZuI67pm5jCT"
      },
      "execution_count": null,
      "outputs": []
    },
    {
      "cell_type": "markdown",
      "source": [
        "###`Problem 14`:Calculate the angle between the hour hand and minute hand.\n",
        "\n",
        "Note: There can be two angles between hands; we need to print a minimum of two. Also, we need to print the floor of the final result angle. For example, if the final angle is 10.61, we need to print 10.\n",
        "\n",
        "Input:<br>\n",
        "H = 9 , M = 0<br>\n",
        "Output:<br>\n",
        "90<br>\n",
        "Explanation:<br>\n",
        "The minimum angle between hour and minute\n",
        "hand when the time is 9 is 90 degress."
      ],
      "metadata": {
        "id": "ClCQZMqT7gK0"
      }
    },
    {
      "cell_type": "code",
      "source": [
        "def Cal_angle(h,m):\n",
        "    if(h<0 or m<0 or h>12 or m>60 ):\n",
        "        print(\"Invalid input\")\n",
        "    if(h==12):\n",
        "        h=0\n",
        "    if(m==60):\n",
        "        m=0\n",
        "        h+=1\n",
        "        if(h>12):\n",
        "            h=h-12\n",
        "        hour_angle=0.5*(h*60+m)\n",
        "        minute_angle=6*m\n",
        "        angle=abs(hour_angle-minute_angle)\n",
        "        angle=min(360-angle,angle)\n",
        "        return angle\n",
        "h=9\n",
        "m=0\n",
        "print('Angle',Cal_angle(h,m))\n"
      ],
      "metadata": {
        "id": "tNBTCZML7jy_"
      },
      "execution_count": null,
      "outputs": []
    },
    {
      "cell_type": "markdown",
      "source": [
        "###`Problem 15`:Given two rectangles, find if the given two rectangles overlap or not. A rectangle is denoted by providing the x and y coordinates of two points: the left top corner and the right bottom corner of the rectangle. Two rectangles sharing a side are considered overlapping. (L1 and R1 are the extreme points of the first rectangle and L2 and R2 are the extreme points of the second rectangle).\n",
        "\n",
        "Note: It may be assumed that the rectangles are parallel to the coordinate axis.\n",
        "\n",
        "<img src='https://www.geeksforgeeks.org/wp-content/uploads/rectanglesOverlap.png' width='300' height='200'>"
      ],
      "metadata": {
        "id": "GwacF9Co72Qc"
      }
    },
    {
      "cell_type": "code",
      "source": [
        "def Rectangle(l1,r1,l2,r2):\n",
        "    x=0\n",
        "    y=0\n",
        "    area1=abs(li[x]-r1[x]*)abs(l1[y])-r1[y])\n",
        "    area2=abs(l2[x]-r2[x])*abs(l2[y]-r2[y])\n",
        "    x_dist=(min(r1[x],r2[x]-max(l1[x],l2[x]))\n",
        "    y_dist=(min(r1[y],r2[y]-max(l1[y],l2[y]))\n",
        "    areaI=0\n",
        "    if(x_dist>0 and y_dist>0):\n",
        "        areaI=x_dist*y_dist\n",
        "    return(area1_area2-areaI)\n",
        "l1=[]\n"
      ],
      "metadata": {
        "id": "6rrw_lpH78Rs"
      },
      "execution_count": null,
      "outputs": []
    }
  ]
}